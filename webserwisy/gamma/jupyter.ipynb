{
 "cells": [
  {
   "cell_type": "code",
   "execution_count": 9,
   "id": "8cfae80d",
   "metadata": {},
   "outputs": [],
   "source": [
    "from buildingmanagement.models import Room, Reservation"
   ]
  },
  {
   "cell_type": "code",
   "execution_count": 8,
   "id": "6b6d5238",
   "metadata": {},
   "outputs": [
    {
     "data": {
      "text/plain": [
       "<QuerySet [<Room: Room1>, <Room: Room2>]>"
      ]
     },
     "execution_count": 8,
     "metadata": {},
     "output_type": "execute_result"
    }
   ],
   "source": [
    "Room.objects.all()"
   ]
  },
  {
   "cell_type": "code",
   "execution_count": 14,
   "id": "a2ecb604",
   "metadata": {},
   "outputs": [],
   "source": [
    "sala1 = Room.objects.get(id=1)"
   ]
  },
  {
   "cell_type": "code",
   "execution_count": 15,
   "id": "ade890a6",
   "metadata": {},
   "outputs": [
    {
     "name": "stdout",
     "output_type": "stream",
     "text": [
      "Room1\n"
     ]
    }
   ],
   "source": [
    "print(sala1)"
   ]
  },
  {
   "cell_type": "code",
   "execution_count": null,
   "id": "026bc3d8",
   "metadata": {},
   "outputs": [],
   "source": []
  }
 ],
 "metadata": {
  "kernelspec": {
   "display_name": "Python 3 (ipykernel)",
   "language": "python",
   "name": "python3"
  },
  "language_info": {
   "codemirror_mode": {
    "name": "ipython",
    "version": 3
   },
   "file_extension": ".py",
   "mimetype": "text/x-python",
   "name": "python",
   "nbconvert_exporter": "python",
   "pygments_lexer": "ipython3",
   "version": "3.8.9"
  }
 },
 "nbformat": 4,
 "nbformat_minor": 5
}
